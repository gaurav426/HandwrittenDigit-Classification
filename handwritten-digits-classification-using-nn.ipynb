{
 "cells": [
  {
   "cell_type": "code",
   "execution_count": 1,
   "id": "2cbfc82e",
   "metadata": {
    "_cell_guid": "b1076dfc-b9ad-4769-8c92-a6c4dae69d19",
    "_uuid": "8f2839f25d086af736a60e9eeb907d3b93b6e0e5",
    "execution": {
     "iopub.execute_input": "2023-05-03T12:39:49.899908Z",
     "iopub.status.busy": "2023-05-03T12:39:49.899307Z",
     "iopub.status.idle": "2023-05-03T12:39:49.909262Z",
     "shell.execute_reply": "2023-05-03T12:39:49.908494Z"
    },
    "papermill": {
     "duration": 0.024796,
     "end_time": "2023-05-03T12:39:49.911415",
     "exception": false,
     "start_time": "2023-05-03T12:39:49.886619",
     "status": "completed"
    },
    "tags": []
   },
   "outputs": [],
   "source": [
    "# This Python 3 environment comes with many helpful analytics libraries installed\n",
    "# It is defined by the kaggle/python Docker image: https://github.com/kaggle/docker-python\n",
    "# For example, here's several helpful packages to load\n",
    "\n",
    "import numpy as np # linear algebra\n",
    "import pandas as pd # data processing, CSV file I/O (e.g. pd.read_csv)\n",
    "\n",
    "# Input data files are available in the read-only \"../input/\" directory\n",
    "# For example, running this (by clicking run or pressing Shift+Enter) will list all files under the input directory\n",
    "\n",
    "import os\n",
    "for dirname, _, filenames in os.walk('/kaggle/input'):\n",
    "    for filename in filenames:\n",
    "        print(os.path.join(dirname, filename))\n",
    "\n",
    "# You can write up to 20GB to the current directory (/kaggle/working/) that gets preserved as output when you create a version using \"Save & Run All\" \n",
    "# You can also write temporary files to /kaggle/temp/, but they won't be saved outside of the current session"
   ]
  },
  {
   "cell_type": "markdown",
   "id": "f80f9e5d",
   "metadata": {
    "papermill": {
     "duration": 0.007308,
     "end_time": "2023-05-03T12:39:49.926604",
     "exception": false,
     "start_time": "2023-05-03T12:39:49.919296",
     "status": "completed"
    },
    "tags": []
   },
   "source": [
    "# <p style=\"background:green ;color:white;font-family:newtimeroman;font-size:100%;text-align:center;border-radius:400px 300px;\"> Handwritten digits classification using neural network\n",
    " </p>"
   ]
  },
  {
   "cell_type": "markdown",
   "id": "7b024daf",
   "metadata": {
    "papermill": {
     "duration": 0.008923,
     "end_time": "2023-05-03T12:39:49.943090",
     "exception": false,
     "start_time": "2023-05-03T12:39:49.934167",
     "status": "completed"
    },
    "tags": []
   },
   "source": [
    "> > > > > > >   ![Nhhhh](https://quantdare.com/wp-content/uploads/2019/06/neural_network-1-800x332.png)"
   ]
  },
  {
   "cell_type": "markdown",
   "id": "e1ea3bb1",
   "metadata": {
    "papermill": {
     "duration": 0.007136,
     "end_time": "2023-05-03T12:39:49.958279",
     "exception": false,
     "start_time": "2023-05-03T12:39:49.951143",
     "status": "completed"
    },
    "tags": []
   },
   "source": [
    "#### The aim of this notebook is to classify handwritten digits using a basic neural network. The network has only input and output layers, also called a single-layer perceptron. We will enhance the model's performance by adding a hidden layer.\n",
    "\n",
    "#### The single-layer perceptron is mainly used for binary classification problems, where the output is either 0 or 1. It uses a linear activation function, which means that the output is a weighted sum of the inputs.\n",
    "\n",
    "#### Neural networks with a single hidden layer are considered shallow neural networks, while those with multiple hidden layers are called deep neural networks. Single hidden layer neural networks are simpler and easier to train, but they may not be able to capture complex patterns in the data. On the other hand, deep neural networks can learn more complex representations of the data, but they may require more data and computational resources to train.\n",
    "\n",
    "\n"
   ]
  },
  {
   "cell_type": "markdown",
   "id": "538806f5",
   "metadata": {
    "papermill": {
     "duration": 0.007213,
     "end_time": "2023-05-03T12:39:49.972909",
     "exception": false,
     "start_time": "2023-05-03T12:39:49.965696",
     "status": "completed"
    },
    "tags": []
   },
   "source": [
    "## Loading Libraries"
   ]
  },
  {
   "cell_type": "code",
   "execution_count": 2,
   "id": "d4edbd9b",
   "metadata": {
    "execution": {
     "iopub.execute_input": "2023-05-03T12:39:49.989305Z",
     "iopub.status.busy": "2023-05-03T12:39:49.988941Z",
     "iopub.status.idle": "2023-05-03T12:39:57.135385Z",
     "shell.execute_reply": "2023-05-03T12:39:57.134532Z"
    },
    "papermill": {
     "duration": 7.157419,
     "end_time": "2023-05-03T12:39:57.137749",
     "exception": false,
     "start_time": "2023-05-03T12:39:49.980330",
     "status": "completed"
    },
    "tags": []
   },
   "outputs": [
    {
     "name": "stderr",
     "output_type": "stream",
     "text": [
      "/opt/conda/lib/python3.10/site-packages/scipy/__init__.py:146: UserWarning: A NumPy version >=1.16.5 and <1.23.0 is required for this version of SciPy (detected version 1.23.5\n",
      "  warnings.warn(f\"A NumPy version >={np_minversion} and <{np_maxversion}\"\n"
     ]
    }
   ],
   "source": [
    "import tensorflow as tf\n",
    "from tensorflow import keras\n",
    "import matplotlib.pyplot as plt\n",
    "%matplotlib inline\n",
    "import numpy as np\n",
    "import warnings"
   ]
  },
  {
   "cell_type": "code",
   "execution_count": 3,
   "id": "f942491b",
   "metadata": {
    "execution": {
     "iopub.execute_input": "2023-05-03T12:39:57.155588Z",
     "iopub.status.busy": "2023-05-03T12:39:57.154393Z",
     "iopub.status.idle": "2023-05-03T12:39:57.159588Z",
     "shell.execute_reply": "2023-05-03T12:39:57.158895Z"
    },
    "papermill": {
     "duration": 0.015728,
     "end_time": "2023-05-03T12:39:57.161497",
     "exception": false,
     "start_time": "2023-05-03T12:39:57.145769",
     "status": "completed"
    },
    "tags": []
   },
   "outputs": [],
   "source": [
    "warnings.simplefilter(action ='ignore')\n"
   ]
  },
  {
   "cell_type": "markdown",
   "id": "97c98956",
   "metadata": {
    "papermill": {
     "duration": 0.00724,
     "end_time": "2023-05-03T12:39:57.176304",
     "exception": false,
     "start_time": "2023-05-03T12:39:57.169064",
     "status": "completed"
    },
    "tags": []
   },
   "source": [
    "## Loading dataset"
   ]
  },
  {
   "cell_type": "code",
   "execution_count": 4,
   "id": "d231b96d",
   "metadata": {
    "execution": {
     "iopub.execute_input": "2023-05-03T12:39:57.193036Z",
     "iopub.status.busy": "2023-05-03T12:39:57.192394Z",
     "iopub.status.idle": "2023-05-03T12:39:57.645833Z",
     "shell.execute_reply": "2023-05-03T12:39:57.644974Z"
    },
    "papermill": {
     "duration": 0.464671,
     "end_time": "2023-05-03T12:39:57.648351",
     "exception": false,
     "start_time": "2023-05-03T12:39:57.183680",
     "status": "completed"
    },
    "tags": []
   },
   "outputs": [
    {
     "name": "stdout",
     "output_type": "stream",
     "text": [
      "Downloading data from https://storage.googleapis.com/tensorflow/tf-keras-datasets/mnist.npz\n",
      "11490434/11490434 [==============================] - 0s 0us/step\n"
     ]
    }
   ],
   "source": [
    "(X_train, y_train) , (X_test, y_test) = keras.datasets.mnist.load_data()\n"
   ]
  },
  {
   "cell_type": "code",
   "execution_count": 5,
   "id": "3fdc8299",
   "metadata": {
    "execution": {
     "iopub.execute_input": "2023-05-03T12:39:57.666229Z",
     "iopub.status.busy": "2023-05-03T12:39:57.665588Z",
     "iopub.status.idle": "2023-05-03T12:39:57.673867Z",
     "shell.execute_reply": "2023-05-03T12:39:57.672946Z"
    },
    "papermill": {
     "duration": 0.019378,
     "end_time": "2023-05-03T12:39:57.675843",
     "exception": false,
     "start_time": "2023-05-03T12:39:57.656465",
     "status": "completed"
    },
    "tags": []
   },
   "outputs": [
    {
     "data": {
      "text/plain": [
       "(28, 28)"
      ]
     },
     "execution_count": 5,
     "metadata": {},
     "output_type": "execute_result"
    }
   ],
   "source": [
    "X_train[0].shape\n"
   ]
  },
  {
   "cell_type": "code",
   "execution_count": 6,
   "id": "cab21bfa",
   "metadata": {
    "execution": {
     "iopub.execute_input": "2023-05-03T12:39:57.693880Z",
     "iopub.status.busy": "2023-05-03T12:39:57.693274Z",
     "iopub.status.idle": "2023-05-03T12:39:57.701678Z",
     "shell.execute_reply": "2023-05-03T12:39:57.700745Z"
    },
    "papermill": {
     "duration": 0.019452,
     "end_time": "2023-05-03T12:39:57.703475",
     "exception": false,
     "start_time": "2023-05-03T12:39:57.684023",
     "status": "completed"
    },
    "tags": []
   },
   "outputs": [
    {
     "data": {
      "text/plain": [
       "array([[  0,   0,   0,   0,   0,   0,   0,   0,   0,   0,   0,   0,   0,\n",
       "          0,   0,   0,   0,   0,   0,   0,   0,   0,   0,   0,   0,   0,\n",
       "          0,   0],\n",
       "       [  0,   0,   0,   0,   0,   0,   0,   0,   0,   0,   0,   0,   0,\n",
       "          0,   0,   0,   0,   0,   0,   0,   0,   0,   0,   0,   0,   0,\n",
       "          0,   0],\n",
       "       [  0,   0,   0,   0,   0,   0,   0,   0,   0,   0,   0,   0,   0,\n",
       "          0,   0,   0,   0,   0,   0,   0,   0,   0,   0,   0,   0,   0,\n",
       "          0,   0],\n",
       "       [  0,   0,   0,   0,   0,   0,   0,   0,   0,   0,   0,   0,   0,\n",
       "          0,   0,   0,   0,   0,   0,   0,   0,   0,   0,   0,   0,   0,\n",
       "          0,   0],\n",
       "       [  0,   0,   0,   0,   0,   0,   0,   0,   0,   0,   0,   0,   0,\n",
       "          0,   0,   0,   0,   0,   0,   0,   0,   0,   0,   0,   0,   0,\n",
       "          0,   0],\n",
       "       [  0,   0,   0,   0,   0,   0,   0,   0,   0,   0,   0,   0,   3,\n",
       "         18,  18,  18, 126, 136, 175,  26, 166, 255, 247, 127,   0,   0,\n",
       "          0,   0],\n",
       "       [  0,   0,   0,   0,   0,   0,   0,   0,  30,  36,  94, 154, 170,\n",
       "        253, 253, 253, 253, 253, 225, 172, 253, 242, 195,  64,   0,   0,\n",
       "          0,   0],\n",
       "       [  0,   0,   0,   0,   0,   0,   0,  49, 238, 253, 253, 253, 253,\n",
       "        253, 253, 253, 253, 251,  93,  82,  82,  56,  39,   0,   0,   0,\n",
       "          0,   0],\n",
       "       [  0,   0,   0,   0,   0,   0,   0,  18, 219, 253, 253, 253, 253,\n",
       "        253, 198, 182, 247, 241,   0,   0,   0,   0,   0,   0,   0,   0,\n",
       "          0,   0],\n",
       "       [  0,   0,   0,   0,   0,   0,   0,   0,  80, 156, 107, 253, 253,\n",
       "        205,  11,   0,  43, 154,   0,   0,   0,   0,   0,   0,   0,   0,\n",
       "          0,   0],\n",
       "       [  0,   0,   0,   0,   0,   0,   0,   0,   0,  14,   1, 154, 253,\n",
       "         90,   0,   0,   0,   0,   0,   0,   0,   0,   0,   0,   0,   0,\n",
       "          0,   0],\n",
       "       [  0,   0,   0,   0,   0,   0,   0,   0,   0,   0,   0, 139, 253,\n",
       "        190,   2,   0,   0,   0,   0,   0,   0,   0,   0,   0,   0,   0,\n",
       "          0,   0],\n",
       "       [  0,   0,   0,   0,   0,   0,   0,   0,   0,   0,   0,  11, 190,\n",
       "        253,  70,   0,   0,   0,   0,   0,   0,   0,   0,   0,   0,   0,\n",
       "          0,   0],\n",
       "       [  0,   0,   0,   0,   0,   0,   0,   0,   0,   0,   0,   0,  35,\n",
       "        241, 225, 160, 108,   1,   0,   0,   0,   0,   0,   0,   0,   0,\n",
       "          0,   0],\n",
       "       [  0,   0,   0,   0,   0,   0,   0,   0,   0,   0,   0,   0,   0,\n",
       "         81, 240, 253, 253, 119,  25,   0,   0,   0,   0,   0,   0,   0,\n",
       "          0,   0],\n",
       "       [  0,   0,   0,   0,   0,   0,   0,   0,   0,   0,   0,   0,   0,\n",
       "          0,  45, 186, 253, 253, 150,  27,   0,   0,   0,   0,   0,   0,\n",
       "          0,   0],\n",
       "       [  0,   0,   0,   0,   0,   0,   0,   0,   0,   0,   0,   0,   0,\n",
       "          0,   0,  16,  93, 252, 253, 187,   0,   0,   0,   0,   0,   0,\n",
       "          0,   0],\n",
       "       [  0,   0,   0,   0,   0,   0,   0,   0,   0,   0,   0,   0,   0,\n",
       "          0,   0,   0,   0, 249, 253, 249,  64,   0,   0,   0,   0,   0,\n",
       "          0,   0],\n",
       "       [  0,   0,   0,   0,   0,   0,   0,   0,   0,   0,   0,   0,   0,\n",
       "          0,  46, 130, 183, 253, 253, 207,   2,   0,   0,   0,   0,   0,\n",
       "          0,   0],\n",
       "       [  0,   0,   0,   0,   0,   0,   0,   0,   0,   0,   0,   0,  39,\n",
       "        148, 229, 253, 253, 253, 250, 182,   0,   0,   0,   0,   0,   0,\n",
       "          0,   0],\n",
       "       [  0,   0,   0,   0,   0,   0,   0,   0,   0,   0,  24, 114, 221,\n",
       "        253, 253, 253, 253, 201,  78,   0,   0,   0,   0,   0,   0,   0,\n",
       "          0,   0],\n",
       "       [  0,   0,   0,   0,   0,   0,   0,   0,  23,  66, 213, 253, 253,\n",
       "        253, 253, 198,  81,   2,   0,   0,   0,   0,   0,   0,   0,   0,\n",
       "          0,   0],\n",
       "       [  0,   0,   0,   0,   0,   0,  18, 171, 219, 253, 253, 253, 253,\n",
       "        195,  80,   9,   0,   0,   0,   0,   0,   0,   0,   0,   0,   0,\n",
       "          0,   0],\n",
       "       [  0,   0,   0,   0,  55, 172, 226, 253, 253, 253, 253, 244, 133,\n",
       "         11,   0,   0,   0,   0,   0,   0,   0,   0,   0,   0,   0,   0,\n",
       "          0,   0],\n",
       "       [  0,   0,   0,   0, 136, 253, 253, 253, 212, 135, 132,  16,   0,\n",
       "          0,   0,   0,   0,   0,   0,   0,   0,   0,   0,   0,   0,   0,\n",
       "          0,   0],\n",
       "       [  0,   0,   0,   0,   0,   0,   0,   0,   0,   0,   0,   0,   0,\n",
       "          0,   0,   0,   0,   0,   0,   0,   0,   0,   0,   0,   0,   0,\n",
       "          0,   0],\n",
       "       [  0,   0,   0,   0,   0,   0,   0,   0,   0,   0,   0,   0,   0,\n",
       "          0,   0,   0,   0,   0,   0,   0,   0,   0,   0,   0,   0,   0,\n",
       "          0,   0],\n",
       "       [  0,   0,   0,   0,   0,   0,   0,   0,   0,   0,   0,   0,   0,\n",
       "          0,   0,   0,   0,   0,   0,   0,   0,   0,   0,   0,   0,   0,\n",
       "          0,   0]], dtype=uint8)"
      ]
     },
     "execution_count": 6,
     "metadata": {},
     "output_type": "execute_result"
    }
   ],
   "source": [
    "X_train[0]\n"
   ]
  },
  {
   "cell_type": "code",
   "execution_count": 7,
   "id": "0a463394",
   "metadata": {
    "execution": {
     "iopub.execute_input": "2023-05-03T12:39:57.721260Z",
     "iopub.status.busy": "2023-05-03T12:39:57.720668Z",
     "iopub.status.idle": "2023-05-03T12:39:58.047342Z",
     "shell.execute_reply": "2023-05-03T12:39:58.046288Z"
    },
    "papermill": {
     "duration": 0.338422,
     "end_time": "2023-05-03T12:39:58.050012",
     "exception": false,
     "start_time": "2023-05-03T12:39:57.711590",
     "status": "completed"
    },
    "tags": []
   },
   "outputs": [
    {
     "data": {
      "text/plain": [
       "<matplotlib.image.AxesImage at 0x72595e8d81f0>"
      ]
     },
     "execution_count": 7,
     "metadata": {},
     "output_type": "execute_result"
    },
    {
     "data": {
      "image/png": "[encoded data removed]",
      "text/plain": [
       "<Figure size 480x480 with 1 Axes>"
      ]
     },
     "metadata": {},
     "output_type": "display_data"
    }
   ],
   "source": [
    "plt.matshow(X_train[0])\n"
   ]
  },
  {
   "cell_type": "code",
   "execution_count": 8,
   "id": "bdef0766",
   "metadata": {
    "execution": {
     "iopub.execute_input": "2023-05-03T12:39:58.080394Z",
     "iopub.status.busy": "2023-05-03T12:39:58.079852Z",
     "iopub.status.idle": "2023-05-03T12:39:58.085366Z",
     "shell.execute_reply": "2023-05-03T12:39:58.084640Z"
    },
    "papermill": {
     "duration": 0.022833,
     "end_time": "2023-05-03T12:39:58.087152",
     "exception": false,
     "start_time": "2023-05-03T12:39:58.064319",
     "status": "completed"
    },
    "tags": []
   },
   "outputs": [
    {
     "data": {
      "text/plain": [
       "5"
      ]
     },
     "execution_count": 8,
     "metadata": {},
     "output_type": "execute_result"
    }
   ],
   "source": [
    "y_train[0]\n"
   ]
  },
  {
   "cell_type": "code",
   "execution_count": 9,
   "id": "85ebe4ed",
   "metadata": {
    "execution": {
     "iopub.execute_input": "2023-05-03T12:39:58.106448Z",
     "iopub.status.busy": "2023-05-03T12:39:58.105776Z",
     "iopub.status.idle": "2023-05-03T12:39:58.296872Z",
     "shell.execute_reply": "2023-05-03T12:39:58.296045Z"
    },
    "papermill": {
     "duration": 0.203319,
     "end_time": "2023-05-03T12:39:58.299180",
     "exception": false,
     "start_time": "2023-05-03T12:39:58.095861",
     "status": "completed"
    },
    "tags": []
   },
   "outputs": [],
   "source": [
    "# Normalized train and test\n",
    "X_train = X_train / 255\n",
    "X_test = X_test / 255"
   ]
  },
  {
   "cell_type": "code",
   "execution_count": 10,
   "id": "8d5d6c53",
   "metadata": {
    "execution": {
     "iopub.execute_input": "2023-05-03T12:39:58.318324Z",
     "iopub.status.busy": "2023-05-03T12:39:58.317945Z",
     "iopub.status.idle": "2023-05-03T12:39:58.330731Z",
     "shell.execute_reply": "2023-05-03T12:39:58.329782Z"
    },
    "papermill": {
     "duration": 0.024995,
     "end_time": "2023-05-03T12:39:58.333029",
     "exception": false,
     "start_time": "2023-05-03T12:39:58.308034",
     "status": "completed"
    },
    "tags": []
   },
   "outputs": [
    {
     "data": {
      "text/plain": [
       "array([[0.        , 0.        , 0.        , 0.        , 0.        ,\n",
       "        0.        , 0.        , 0.        , 0.        , 0.        ,\n",
       "        0.        , 0.        , 0.        , 0.        , 0.        ,\n",
       "        0.        , 0.        , 0.        , 0.        , 0.        ,\n",
       "        0.        , 0.        , 0.        , 0.        , 0.        ,\n",
       "        0.        , 0.        , 0.        ],\n",
       "       [0.        , 0.        , 0.        , 0.        , 0.        ,\n",
       "        0.        , 0.        , 0.        , 0.        , 0.        ,\n",
       "        0.        , 0.        , 0.        , 0.        , 0.        ,\n",
       "        0.        , 0.        , 0.        , 0.        , 0.        ,\n",
       "        0.        , 0.        , 0.        , 0.        , 0.        ,\n",
       "        0.        , 0.        , 0.        ],\n",
       "       [0.        , 0.        , 0.        , 0.        , 0.        ,\n",
       "        0.        , 0.        , 0.        , 0.        , 0.        ,\n",
       "        0.        , 0.        , 0.        , 0.        , 0.        ,\n",
       "        0.        , 0.        , 0.        , 0.        , 0.        ,\n",
       "        0.        , 0.        , 0.        , 0.        , 0.        ,\n",
       "        0.        , 0.        , 0.        ],\n",
       "       [0.        , 0.        , 0.        , 0.        , 0.        ,\n",
       "        0.        , 0.        , 0.        , 0.        , 0.        ,\n",
       "        0.        , 0.        , 0.        , 0.        , 0.        ,\n",
       "        0.        , 0.        , 0.        , 0.        , 0.        ,\n",
       "        0.        , 0.        , 0.        , 0.        , 0.        ,\n",
       "        0.        , 0.        , 0.        ],\n",
       "       [0.        , 0.        , 0.        , 0.        , 0.        ,\n",
       "        0.        , 0.        , 0.        , 0.        , 0.        ,\n",
       "        0.        , 0.        , 0.        , 0.        , 0.        ,\n",
       "        0.        , 0.        , 0.        , 0.        , 0.        ,\n",
       "        0.        , 0.        , 0.        , 0.        , 0.        ,\n",
       "        0.        , 0.        , 0.        ],\n",
       "       [0.        , 0.        , 0.        , 0.        , 0.        ,\n",
       "        0.        , 0.        , 0.        , 0.        , 0.        ,\n",
       "        0.        , 0.        , 0.01176471, 0.07058824, 0.07058824,\n",
       "        0.07058824, 0.49411765, 0.53333333, 0.68627451, 0.10196078,\n",
       "        0.65098039, 1.        , 0.96862745, 0.49803922, 0.        ,\n",
       "        0.        , 0.        , 0.        ],\n",
       "       [0.        , 0.        , 0.        , 0.        , 0.        ,\n",
       "        0.        , 0.        , 0.        , 0.11764706, 0.14117647,\n",
       "        0.36862745, 0.60392157, 0.66666667, 0.99215686, 0.99215686,\n",
       "        0.99215686, 0.99215686, 0.99215686, 0.88235294, 0.6745098 ,\n",
       "        0.99215686, 0.94901961, 0.76470588, 0.25098039, 0.        ,\n",
       "        0.        , 0.        , 0.        ],\n",
       "       [0.        , 0.        , 0.        , 0.        , 0.        ,\n",
       "        0.        , 0.        , 0.19215686, 0.93333333, 0.99215686,\n",
       "        0.99215686, 0.99215686, 0.99215686, 0.99215686, 0.99215686,\n",
       "        0.99215686, 0.99215686, 0.98431373, 0.36470588, 0.32156863,\n",
       "        0.32156863, 0.21960784, 0.15294118, 0.        , 0.        ,\n",
       "        0.        , 0.        , 0.        ],\n",
       "       [0.        , 0.        , 0.        , 0.        , 0.        ,\n",
       "        0.        , 0.        , 0.07058824, 0.85882353, 0.99215686,\n",
       "        0.99215686, 0.99215686, 0.99215686, 0.99215686, 0.77647059,\n",
       "        0.71372549, 0.96862745, 0.94509804, 0.        , 0.        ,\n",
       "        0.        , 0.        , 0.        , 0.        , 0.        ,\n",
       "        0.        , 0.        , 0.        ],\n",
       "       [0.        , 0.        , 0.        , 0.        , 0.        ,\n",
       "        0.        , 0.        , 0.        , 0.31372549, 0.61176471,\n",
       "        0.41960784, 0.99215686, 0.99215686, 0.80392157, 0.04313725,\n",
       "        0.        , 0.16862745, 0.60392157, 0.        , 0.        ,\n",
       "        0.        , 0.        , 0.        , 0.        , 0.        ,\n",
       "        0.        , 0.        , 0.        ],\n",
       "       [0.        , 0.        , 0.        , 0.        , 0.        ,\n",
       "        0.        , 0.        , 0.        , 0.        , 0.05490196,\n",
       "        0.00392157, 0.60392157, 0.99215686, 0.35294118, 0.        ,\n",
       "        0.        , 0.        , 0.        , 0.        , 0.        ,\n",
       "        0.        , 0.        , 0.        , 0.        , 0.        ,\n",
       "        0.        , 0.        , 0.        ],\n",
       "       [0.        , 0.        , 0.        , 0.        , 0.        ,\n",
       "        0.        , 0.        , 0.        , 0.        , 0.        ,\n",
       "        0.        , 0.54509804, 0.99215686, 0.74509804, 0.00784314,\n",
       "        0.        , 0.        , 0.        , 0.        , 0.        ,\n",
       "        0.        , 0.        , 0.        , 0.        , 0.        ,\n",
       "        0.        , 0.        , 0.        ],\n",
       "       [0.        , 0.        , 0.        , 0.        , 0.        ,\n",
       "        0.        , 0.        , 0.        , 0.        , 0.        ,\n",
       "        0.        , 0.04313725, 0.74509804, 0.99215686, 0.2745098 ,\n",
       "        0.        , 0.        , 0.        , 0.        , 0.        ,\n",
       "        0.        , 0.        , 0.        , 0.        , 0.        ,\n",
       "        0.        , 0.        , 0.        ],\n",
       "       [0.        , 0.        , 0.        , 0.        , 0.        ,\n",
       "        0.        , 0.        , 0.        , 0.        , 0.        ,\n",
       "        0.        , 0.        , 0.1372549 , 0.94509804, 0.88235294,\n",
       "        0.62745098, 0.42352941, 0.00392157, 0.        , 0.        ,\n",
       "        0.        , 0.        , 0.        , 0.        , 0.        ,\n",
       "        0.        , 0.        , 0.        ],\n",
       "       [0.        , 0.        , 0.        , 0.        , 0.        ,\n",
       "        0.        , 0.        , 0.        , 0.        , 0.        ,\n",
       "        0.        , 0.        , 0.        , 0.31764706, 0.94117647,\n",
       "        0.99215686, 0.99215686, 0.46666667, 0.09803922, 0.        ,\n",
       "        0.        , 0.        , 0.        , 0.        , 0.        ,\n",
       "        0.        , 0.        , 0.        ],\n",
       "       [0.        , 0.        , 0.        , 0.        , 0.        ,\n",
       "        0.        , 0.        , 0.        , 0.        , 0.        ,\n",
       "        0.        , 0.        , 0.        , 0.        , 0.17647059,\n",
       "        0.72941176, 0.99215686, 0.99215686, 0.58823529, 0.10588235,\n",
       "        0.        , 0.        , 0.        , 0.        , 0.        ,\n",
       "        0.        , 0.        , 0.        ],\n",
       "       [0.        , 0.        , 0.        , 0.        , 0.        ,\n",
       "        0.        , 0.        , 0.        , 0.        , 0.        ,\n",
       "        0.        , 0.        , 0.        , 0.        , 0.        ,\n",
       "        0.0627451 , 0.36470588, 0.98823529, 0.99215686, 0.73333333,\n",
       "        0.        , 0.        , 0.        , 0.        , 0.        ,\n",
       "        0.        , 0.        , 0.        ],\n",
       "       [0.        , 0.        , 0.        , 0.        , 0.        ,\n",
       "        0.        , 0.        , 0.        , 0.        , 0.        ,\n",
       "        0.        , 0.        , 0.        , 0.        , 0.        ,\n",
       "        0.        , 0.        , 0.97647059, 0.99215686, 0.97647059,\n",
       "        0.25098039, 0.        , 0.        , 0.        , 0.        ,\n",
       "        0.        , 0.        , 0.        ],\n",
       "       [0.        , 0.        , 0.        , 0.        , 0.        ,\n",
       "        0.        , 0.        , 0.        , 0.        , 0.        ,\n",
       "        0.        , 0.        , 0.        , 0.        , 0.18039216,\n",
       "        0.50980392, 0.71764706, 0.99215686, 0.99215686, 0.81176471,\n",
       "        0.00784314, 0.        , 0.        , 0.        , 0.        ,\n",
       "        0.        , 0.        , 0.        ],\n",
       "       [0.        , 0.        , 0.        , 0.        , 0.        ,\n",
       "        0.        , 0.        , 0.        , 0.        , 0.        ,\n",
       "        0.        , 0.        , 0.15294118, 0.58039216, 0.89803922,\n",
       "        0.99215686, 0.99215686, 0.99215686, 0.98039216, 0.71372549,\n",
       "        0.        , 0.        , 0.        , 0.        , 0.        ,\n",
       "        0.        , 0.        , 0.        ],\n",
       "       [0.        , 0.        , 0.        , 0.        , 0.        ,\n",
       "        0.        , 0.        , 0.        , 0.        , 0.        ,\n",
       "        0.09411765, 0.44705882, 0.86666667, 0.99215686, 0.99215686,\n",
       "        0.99215686, 0.99215686, 0.78823529, 0.30588235, 0.        ,\n",
       "        0.        , 0.        , 0.        , 0.        , 0.        ,\n",
       "        0.        , 0.        , 0.        ],\n",
       "       [0.        , 0.        , 0.        , 0.        , 0.        ,\n",
       "        0.        , 0.        , 0.        , 0.09019608, 0.25882353,\n",
       "        0.83529412, 0.99215686, 0.99215686, 0.99215686, 0.99215686,\n",
       "        0.77647059, 0.31764706, 0.00784314, 0.        , 0.        ,\n",
       "        0.        , 0.        , 0.        , 0.        , 0.        ,\n",
       "        0.        , 0.        , 0.        ],\n",
       "       [0.        , 0.        , 0.        , 0.        , 0.        ,\n",
       "        0.        , 0.07058824, 0.67058824, 0.85882353, 0.99215686,\n",
       "        0.99215686, 0.99215686, 0.99215686, 0.76470588, 0.31372549,\n",
       "        0.03529412, 0.        , 0.        , 0.        , 0.        ,\n",
       "        0.        , 0.        , 0.        , 0.        , 0.        ,\n",
       "        0.        , 0.        , 0.        ],\n",
       "       [0.        , 0.        , 0.        , 0.        , 0.21568627,\n",
       "        0.6745098 , 0.88627451, 0.99215686, 0.99215686, 0.99215686,\n",
       "        0.99215686, 0.95686275, 0.52156863, 0.04313725, 0.        ,\n",
       "        0.        , 0.        , 0.        , 0.        , 0.        ,\n",
       "        0.        , 0.        , 0.        , 0.        , 0.        ,\n",
       "        0.        , 0.        , 0.        ],\n",
       "       [0.        , 0.        , 0.        , 0.        , 0.53333333,\n",
       "        0.99215686, 0.99215686, 0.99215686, 0.83137255, 0.52941176,\n",
       "        0.51764706, 0.0627451 , 0.        , 0.        , 0.        ,\n",
       "        0.        , 0.        , 0.        , 0.        , 0.        ,\n",
       "        0.        , 0.        , 0.        , 0.        , 0.        ,\n",
       "        0.        , 0.        , 0.        ],\n",
       "       [0.        , 0.        , 0.        , 0.        , 0.        ,\n",
       "        0.        , 0.        , 0.        , 0.        , 0.        ,\n",
       "        0.        , 0.        , 0.        , 0.        , 0.        ,\n",
       "        0.        , 0.        , 0.        , 0.        , 0.        ,\n",
       "        0.        , 0.        , 0.        , 0.        , 0.        ,\n",
       "        0.        , 0.        , 0.        ],\n",
       "       [0.        , 0.        , 0.        , 0.        , 0.        ,\n",
       "        0.        , 0.        , 0.        , 0.        , 0.        ,\n",
       "        0.        , 0.        , 0.        , 0.        , 0.        ,\n",
       "        0.        , 0.        , 0.        , 0.        , 0.        ,\n",
       "        0.        , 0.        , 0.        , 0.        , 0.        ,\n",
       "        0.        , 0.        , 0.        ],\n",
       "       [0.        , 0.        , 0.        , 0.        , 0.        ,\n",
       "        0.        , 0.        , 0.        , 0.        , 0.        ,\n",
       "        0.        , 0.        , 0.        , 0.        , 0.        ,\n",
       "        0.        , 0.        , 0.        , 0.        , 0.        ,\n",
       "        0.        , 0.        , 0.        , 0.        , 0.        ,\n",
       "        0.        , 0.        , 0.        ]])"
      ]
     },
     "execution_count": 10,
     "metadata": {},
     "output_type": "execute_result"
    }
   ],
   "source": [
    "X_train[0]\n"
   ]
  },
  {
   "cell_type": "code",
   "execution_count": 11,
   "id": "1f14ba8a",
   "metadata": {
    "execution": {
     "iopub.execute_input": "2023-05-03T12:39:58.353422Z",
     "iopub.status.busy": "2023-05-03T12:39:58.351976Z",
     "iopub.status.idle": "2023-05-03T12:39:58.357516Z",
     "shell.execute_reply": "2023-05-03T12:39:58.356805Z"
    },
    "papermill": {
     "duration": 0.017491,
     "end_time": "2023-05-03T12:39:58.359439",
     "exception": false,
     "start_time": "2023-05-03T12:39:58.341948",
     "status": "completed"
    },
    "tags": []
   },
   "outputs": [],
   "source": [
    "X_train_flattened = X_train.reshape(len(X_train), 28*28)\n",
    "X_test_flattened = X_test.reshape(len(X_test), 28*28)"
   ]
  },
  {
   "cell_type": "code",
   "execution_count": 12,
   "id": "a96cbc68",
   "metadata": {
    "execution": {
     "iopub.execute_input": "2023-05-03T12:39:58.378725Z",
     "iopub.status.busy": "2023-05-03T12:39:58.378201Z",
     "iopub.status.idle": "2023-05-03T12:39:58.383267Z",
     "shell.execute_reply": "2023-05-03T12:39:58.382513Z"
    },
    "papermill": {
     "duration": 0.01697,
     "end_time": "2023-05-03T12:39:58.385200",
     "exception": false,
     "start_time": "2023-05-03T12:39:58.368230",
     "status": "completed"
    },
    "tags": []
   },
   "outputs": [
    {
     "data": {
      "text/plain": [
       "(60000, 784)"
      ]
     },
     "execution_count": 12,
     "metadata": {},
     "output_type": "execute_result"
    }
   ],
   "source": [
    "X_train_flattened.shape\n"
   ]
  },
  {
   "cell_type": "code",
   "execution_count": 13,
   "id": "0a9a0739",
   "metadata": {
    "execution": {
     "iopub.execute_input": "2023-05-03T12:39:58.405047Z",
     "iopub.status.busy": "2023-05-03T12:39:58.404488Z",
     "iopub.status.idle": "2023-05-03T12:39:58.415586Z",
     "shell.execute_reply": "2023-05-03T12:39:58.414459Z"
    },
    "papermill": {
     "duration": 0.023435,
     "end_time": "2023-05-03T12:39:58.417650",
     "exception": false,
     "start_time": "2023-05-03T12:39:58.394215",
     "status": "completed"
    },
    "tags": []
   },
   "outputs": [
    {
     "data": {
      "text/plain": [
       "array([0.        , 0.        , 0.        , 0.        , 0.        ,\n",
       "       0.        , 0.        , 0.        , 0.        , 0.        ,\n",
       "       0.        , 0.        , 0.        , 0.        , 0.        ,\n",
       "       0.        , 0.        , 0.        , 0.        , 0.        ,\n",
       "       0.        , 0.        , 0.        , 0.        , 0.        ,\n",
       "       0.        , 0.        , 0.        , 0.        , 0.        ,\n",
       "       0.        , 0.        , 0.        , 0.        , 0.        ,\n",
       "       0.        , 0.        , 0.        , 0.        , 0.        ,\n",
       "       0.        , 0.        , 0.        , 0.        , 0.        ,\n",
       "       0.        , 0.        , 0.        , 0.        , 0.        ,\n",
       "       0.        , 0.        , 0.        , 0.        , 0.        ,\n",
       "       0.        , 0.        , 0.        , 0.        , 0.        ,\n",
       "       0.        , 0.        , 0.        , 0.        , 0.        ,\n",
       "       0.        , 0.        , 0.        , 0.        , 0.        ,\n",
       "       0.        , 0.        , 0.        , 0.        , 0.        ,\n",
       "       0.        , 0.        , 0.        , 0.        , 0.        ,\n",
       "       0.        , 0.        , 0.        , 0.        , 0.        ,\n",
       "       0.        , 0.        , 0.        , 0.        , 0.        ,\n",
       "       0.        , 0.        , 0.        , 0.        , 0.        ,\n",
       "       0.        , 0.        , 0.        , 0.        , 0.        ,\n",
       "       0.        , 0.        , 0.        , 0.        , 0.        ,\n",
       "       0.        , 0.        , 0.        , 0.        , 0.        ,\n",
       "       0.        , 0.        , 0.        , 0.        , 0.        ,\n",
       "       0.        , 0.        , 0.        , 0.        , 0.        ,\n",
       "       0.        , 0.        , 0.        , 0.        , 0.        ,\n",
       "       0.        , 0.        , 0.        , 0.        , 0.        ,\n",
       "       0.        , 0.        , 0.        , 0.        , 0.        ,\n",
       "       0.        , 0.        , 0.        , 0.        , 0.        ,\n",
       "       0.        , 0.        , 0.        , 0.        , 0.        ,\n",
       "       0.        , 0.        , 0.        , 0.        , 0.        ,\n",
       "       0.        , 0.        , 0.01176471, 0.07058824, 0.07058824,\n",
       "       0.07058824, 0.49411765, 0.53333333, 0.68627451, 0.10196078,\n",
       "       0.65098039, 1.        , 0.96862745, 0.49803922, 0.        ,\n",
       "       0.        , 0.        , 0.        , 0.        , 0.        ,\n",
       "       0.        , 0.        , 0.        , 0.        , 0.        ,\n",
       "       0.        , 0.11764706, 0.14117647, 0.36862745, 0.60392157,\n",
       "       0.66666667, 0.99215686, 0.99215686, 0.99215686, 0.99215686,\n",
       "       0.99215686, 0.88235294, 0.6745098 , 0.99215686, 0.94901961,\n",
       "       0.76470588, 0.25098039, 0.        , 0.        , 0.        ,\n",
       "       0.        , 0.        , 0.        , 0.        , 0.        ,\n",
       "       0.        , 0.        , 0.        , 0.19215686, 0.93333333,\n",
       "       0.99215686, 0.99215686, 0.99215686, 0.99215686, 0.99215686,\n",
       "       0.99215686, 0.99215686, 0.99215686, 0.98431373, 0.36470588,\n",
       "       0.32156863, 0.32156863, 0.21960784, 0.15294118, 0.        ,\n",
       "       0.        , 0.        , 0.        , 0.        , 0.        ,\n",
       "       0.        , 0.        , 0.        , 0.        , 0.        ,\n",
       "       0.        , 0.07058824, 0.85882353, 0.99215686, 0.99215686,\n",
       "       0.99215686, 0.99215686, 0.99215686, 0.77647059, 0.71372549,\n",
       "       0.96862745, 0.94509804, 0.        , 0.        , 0.        ,\n",
       "       0.        , 0.        , 0.        , 0.        , 0.        ,\n",
       "       0.        , 0.        , 0.        , 0.        , 0.        ,\n",
       "       0.        , 0.        , 0.        , 0.        , 0.        ,\n",
       "       0.31372549, 0.61176471, 0.41960784, 0.99215686, 0.99215686,\n",
       "       0.80392157, 0.04313725, 0.        , 0.16862745, 0.60392157,\n",
       "       0.        , 0.        , 0.        , 0.        , 0.        ,\n",
       "       0.        , 0.        , 0.        , 0.        , 0.        ,\n",
       "       0.        , 0.        , 0.        , 0.        , 0.        ,\n",
       "       0.        , 0.        , 0.        , 0.        , 0.05490196,\n",
       "       0.00392157, 0.60392157, 0.99215686, 0.35294118, 0.        ,\n",
       "       0.        , 0.        , 0.        , 0.        , 0.        ,\n",
       "       0.        , 0.        , 0.        , 0.        , 0.        ,\n",
       "       0.        , 0.        , 0.        , 0.        , 0.        ,\n",
       "       0.        , 0.        , 0.        , 0.        , 0.        ,\n",
       "       0.        , 0.        , 0.        , 0.        , 0.54509804,\n",
       "       0.99215686, 0.74509804, 0.00784314, 0.        , 0.        ,\n",
       "       0.        , 0.        , 0.        , 0.        , 0.        ,\n",
       "       0.        , 0.        , 0.        , 0.        , 0.        ,\n",
       "       0.        , 0.        , 0.        , 0.        , 0.        ,\n",
       "       0.        , 0.        , 0.        , 0.        , 0.        ,\n",
       "       0.        , 0.        , 0.04313725, 0.74509804, 0.99215686,\n",
       "       0.2745098 , 0.        , 0.        , 0.        , 0.        ,\n",
       "       0.        , 0.        , 0.        , 0.        , 0.        ,\n",
       "       0.        , 0.        , 0.        , 0.        , 0.        ,\n",
       "       0.        , 0.        , 0.        , 0.        , 0.        ,\n",
       "       0.        , 0.        , 0.        , 0.        , 0.        ,\n",
       "       0.        , 0.1372549 , 0.94509804, 0.88235294, 0.62745098,\n",
       "       0.42352941, 0.00392157, 0.        , 0.        , 0.        ,\n",
       "       0.        , 0.        , 0.        , 0.        , 0.        ,\n",
       "       0.        , 0.        , 0.        , 0.        , 0.        ,\n",
       "       0.        , 0.        , 0.        , 0.        , 0.        ,\n",
       "       0.        , 0.        , 0.        , 0.        , 0.        ,\n",
       "       0.31764706, 0.94117647, 0.99215686, 0.99215686, 0.46666667,\n",
       "       0.09803922, 0.        , 0.        , 0.        , 0.        ,\n",
       "       0.        , 0.        , 0.        , 0.        , 0.        ,\n",
       "       0.        , 0.        , 0.        , 0.        , 0.        ,\n",
       "       0.        , 0.        , 0.        , 0.        , 0.        ,\n",
       "       0.        , 0.        , 0.        , 0.        , 0.17647059,\n",
       "       0.72941176, 0.99215686, 0.99215686, 0.58823529, 0.10588235,\n",
       "       0.        , 0.        , 0.        , 0.        , 0.        ,\n",
       "       0.        , 0.        , 0.        , 0.        , 0.        ,\n",
       "       0.        , 0.        , 0.        , 0.        , 0.        ,\n",
       "       0.        , 0.        , 0.        , 0.        , 0.        ,\n",
       "       0.        , 0.        , 0.        , 0.0627451 , 0.36470588,\n",
       "       0.98823529, 0.99215686, 0.73333333, 0.        , 0.        ,\n",
       "       0.        , 0.        , 0.        , 0.        , 0.        ,\n",
       "       0.        , 0.        , 0.        , 0.        , 0.        ,\n",
       "       0.        , 0.        , 0.        , 0.        , 0.        ,\n",
       "       0.        , 0.        , 0.        , 0.        , 0.        ,\n",
       "       0.        , 0.        , 0.        , 0.97647059, 0.99215686,\n",
       "       0.97647059, 0.25098039, 0.        , 0.        , 0.        ,\n",
       "       0.        , 0.        , 0.        , 0.        , 0.        ,\n",
       "       0.        , 0.        , 0.        , 0.        , 0.        ,\n",
       "       0.        , 0.        , 0.        , 0.        , 0.        ,\n",
       "       0.        , 0.        , 0.        , 0.18039216, 0.50980392,\n",
       "       0.71764706, 0.99215686, 0.99215686, 0.81176471, 0.00784314,\n",
       "       0.        , 0.        , 0.        , 0.        , 0.        ,\n",
       "       0.        , 0.        , 0.        , 0.        , 0.        ,\n",
       "       0.        , 0.        , 0.        , 0.        , 0.        ,\n",
       "       0.        , 0.        , 0.        , 0.        , 0.15294118,\n",
       "       0.58039216, 0.89803922, 0.99215686, 0.99215686, 0.99215686,\n",
       "       0.98039216, 0.71372549, 0.        , 0.        , 0.        ,\n",
       "       0.        , 0.        , 0.        , 0.        , 0.        ,\n",
       "       0.        , 0.        , 0.        , 0.        , 0.        ,\n",
       "       0.        , 0.        , 0.        , 0.        , 0.        ,\n",
       "       0.09411765, 0.44705882, 0.86666667, 0.99215686, 0.99215686,\n",
       "       0.99215686, 0.99215686, 0.78823529, 0.30588235, 0.        ,\n",
       "       0.        , 0.        , 0.        , 0.        , 0.        ,\n",
       "       0.        , 0.        , 0.        , 0.        , 0.        ,\n",
       "       0.        , 0.        , 0.        , 0.        , 0.        ,\n",
       "       0.        , 0.09019608, 0.25882353, 0.83529412, 0.99215686,\n",
       "       0.99215686, 0.99215686, 0.99215686, 0.77647059, 0.31764706,\n",
       "       0.00784314, 0.        , 0.        , 0.        , 0.        ,\n",
       "       0.        , 0.        , 0.        , 0.        , 0.        ,\n",
       "       0.        , 0.        , 0.        , 0.        , 0.        ,\n",
       "       0.        , 0.        , 0.07058824, 0.67058824, 0.85882353,\n",
       "       0.99215686, 0.99215686, 0.99215686, 0.99215686, 0.76470588,\n",
       "       0.31372549, 0.03529412, 0.        , 0.        , 0.        ,\n",
       "       0.        , 0.        , 0.        , 0.        , 0.        ,\n",
       "       0.        , 0.        , 0.        , 0.        , 0.        ,\n",
       "       0.        , 0.        , 0.        , 0.21568627, 0.6745098 ,\n",
       "       0.88627451, 0.99215686, 0.99215686, 0.99215686, 0.99215686,\n",
       "       0.95686275, 0.52156863, 0.04313725, 0.        , 0.        ,\n",
       "       0.        , 0.        , 0.        , 0.        , 0.        ,\n",
       "       0.        , 0.        , 0.        , 0.        , 0.        ,\n",
       "       0.        , 0.        , 0.        , 0.        , 0.        ,\n",
       "       0.        , 0.53333333, 0.99215686, 0.99215686, 0.99215686,\n",
       "       0.83137255, 0.52941176, 0.51764706, 0.0627451 , 0.        ,\n",
       "       0.        , 0.        , 0.        , 0.        , 0.        ,\n",
       "       0.        , 0.        , 0.        , 0.        , 0.        ,\n",
       "       0.        , 0.        , 0.        , 0.        , 0.        ,\n",
       "       0.        , 0.        , 0.        , 0.        , 0.        ,\n",
       "       0.        , 0.        , 0.        , 0.        , 0.        ,\n",
       "       0.        , 0.        , 0.        , 0.        , 0.        ,\n",
       "       0.        , 0.        , 0.        , 0.        , 0.        ,\n",
       "       0.        , 0.        , 0.        , 0.        , 0.        ,\n",
       "       0.        , 0.        , 0.        , 0.        , 0.        ,\n",
       "       0.        , 0.        , 0.        , 0.        , 0.        ,\n",
       "       0.        , 0.        , 0.        , 0.        , 0.        ,\n",
       "       0.        , 0.        , 0.        , 0.        , 0.        ,\n",
       "       0.        , 0.        , 0.        , 0.        , 0.        ,\n",
       "       0.        , 0.        , 0.        , 0.        , 0.        ,\n",
       "       0.        , 0.        , 0.        , 0.        , 0.        ,\n",
       "       0.        , 0.        , 0.        , 0.        , 0.        ,\n",
       "       0.        , 0.        , 0.        , 0.        , 0.        ,\n",
       "       0.        , 0.        , 0.        , 0.        , 0.        ,\n",
       "       0.        , 0.        , 0.        , 0.        , 0.        ,\n",
       "       0.        , 0.        , 0.        , 0.        ])"
      ]
     },
     "execution_count": 13,
     "metadata": {},
     "output_type": "execute_result"
    }
   ],
   "source": [
    "X_train_flattened[0]\n"
   ]
  },
  {
   "cell_type": "markdown",
   "id": "b1985acf",
   "metadata": {
    "papermill": {
     "duration": 0.008978,
     "end_time": "2023-05-03T12:39:58.435823",
     "exception": false,
     "start_time": "2023-05-03T12:39:58.426845",
     "status": "completed"
    },
    "tags": []
   },
   "source": [
    "## Simple neural network with no hidden layers"
   ]
  },
  {
   "cell_type": "code",
   "execution_count": 14,
   "id": "01d2dbe6",
   "metadata": {
    "execution": {
     "iopub.execute_input": "2023-05-03T12:39:58.456267Z",
     "iopub.status.busy": "2023-05-03T12:39:58.455897Z",
     "iopub.status.idle": "2023-05-03T12:40:19.946859Z",
     "shell.execute_reply": "2023-05-03T12:40:19.945778Z"
    },
    "papermill": {
     "duration": 21.504182,
     "end_time": "2023-05-03T12:40:19.949069",
     "exception": false,
     "start_time": "2023-05-03T12:39:58.444887",
     "status": "completed"
    },
    "tags": []
   },
   "outputs": [
    {
     "name": "stdout",
     "output_type": "stream",
     "text": [
      "Epoch 1/5\n",
      "1875/1875 [==============================] - 3s 1ms/step - loss: 0.4704 - accuracy: 0.8777\n",
      "Epoch 2/5\n",
      "1875/1875 [==============================] - 3s 1ms/step - loss: 0.3038 - accuracy: 0.9156\n",
      "Epoch 3/5\n",
      "1875/1875 [==============================] - 3s 1ms/step - loss: 0.2838 - accuracy: 0.9199\n",
      "Epoch 4/5\n",
      "1875/1875 [==============================] - 3s 1ms/step - loss: 0.2729 - accuracy: 0.9236\n",
      "Epoch 5/5\n",
      "1875/1875 [==============================] - 3s 1ms/step - loss: 0.2666 - accuracy: 0.9262\n"
     ]
    },
    {
     "data": {
      "text/plain": [
       "<keras.callbacks.History at 0x72595ef5f4c0>"
      ]
     },
     "execution_count": 14,
     "metadata": {},
     "output_type": "execute_result"
    }
   ],
   "source": [
    "model = keras.Sequential([\n",
    "    keras.layers.Dense(10, input_shape=(784,), activation='sigmoid')\n",
    "])\n",
    "\n",
    "model.compile(optimizer='adam',\n",
    "              loss='sparse_categorical_crossentropy',\n",
    "              metrics=['accuracy'])\n",
    "\n",
    "model.fit(X_train_flattened, y_train, epochs=5)"
   ]
  },
  {
   "cell_type": "code",
   "execution_count": 15,
   "id": "8f6df6ea",
   "metadata": {
    "execution": {
     "iopub.execute_input": "2023-05-03T12:40:20.001853Z",
     "iopub.status.busy": "2023-05-03T12:40:20.001453Z",
     "iopub.status.idle": "2023-05-03T12:40:20.655678Z",
     "shell.execute_reply": "2023-05-03T12:40:20.654907Z"
    },
    "papermill": {
     "duration": 0.68275,
     "end_time": "2023-05-03T12:40:20.657545",
     "exception": false,
     "start_time": "2023-05-03T12:40:19.974795",
     "status": "completed"
    },
    "tags": []
   },
   "outputs": [
    {
     "name": "stdout",
     "output_type": "stream",
     "text": [
      "313/313 [==============================] - 1s 1ms/step - loss: 0.2710 - accuracy: 0.9236\n"
     ]
    },
    {
     "data": {
      "text/plain": [
       "[0.2710263729095459, 0.9236000180244446]"
      ]
     },
     "execution_count": 15,
     "metadata": {},
     "output_type": "execute_result"
    }
   ],
   "source": [
    "model.evaluate(X_test_flattened, y_test)\n"
   ]
  },
  {
   "cell_type": "code",
   "execution_count": 16,
   "id": "691ac848",
   "metadata": {
    "execution": {
     "iopub.execute_input": "2023-05-03T12:40:20.712371Z",
     "iopub.status.busy": "2023-05-03T12:40:20.711625Z",
     "iopub.status.idle": "2023-05-03T12:40:21.496754Z",
     "shell.execute_reply": "2023-05-03T12:40:21.495696Z"
    },
    "papermill": {
     "duration": 0.815022,
     "end_time": "2023-05-03T12:40:21.499258",
     "exception": false,
     "start_time": "2023-05-03T12:40:20.684236",
     "status": "completed"
    },
    "tags": []
   },
   "outputs": [
    {
     "name": "stdout",
     "output_type": "stream",
     "text": [
      "313/313 [==============================] - 0s 1ms/step\n"
     ]
    },
    {
     "data": {
      "text/plain": [
       "array([3.9245225e-02, 3.1585049e-07, 7.8135401e-02, 9.5284837e-01,\n",
       "       3.5483018e-03, 1.1101600e-01, 1.6604217e-06, 9.9972516e-01,\n",
       "       7.4356727e-02, 6.4838201e-01], dtype=float32)"
      ]
     },
     "execution_count": 16,
     "metadata": {},
     "output_type": "execute_result"
    }
   ],
   "source": [
    "y_predicted = model.predict(X_test_flattened)\n",
    "y_predicted[0]"
   ]
  },
  {
   "cell_type": "code",
   "execution_count": 17,
   "id": "31d7130b",
   "metadata": {
    "execution": {
     "iopub.execute_input": "2023-05-03T12:40:21.554196Z",
     "iopub.status.busy": "2023-05-03T12:40:21.553506Z",
     "iopub.status.idle": "2023-05-03T12:40:21.856226Z",
     "shell.execute_reply": "2023-05-03T12:40:21.855151Z"
    },
    "papermill": {
     "duration": 0.333004,
     "end_time": "2023-05-03T12:40:21.858868",
     "exception": false,
     "start_time": "2023-05-03T12:40:21.525864",
     "status": "completed"
    },
    "tags": []
   },
   "outputs": [
    {
     "data": {
      "text/plain": [
       "<matplotlib.image.AxesImage at 0x7259402a0f70>"
      ]
     },
     "execution_count": 17,
     "metadata": {},
     "output_type": "execute_result"
    },
    {
     "data": {
      "image/png": "[encoded data removed]",
      "text/plain": [
       "<Figure size 480x480 with 1 Axes>"
      ]
     },
     "metadata": {},
     "output_type": "display_data"
    }
   ],
   "source": [
    "plt.matshow(X_test[0])\n"
   ]
  },
  {
   "cell_type": "code",
   "execution_count": 18,
   "id": "3141f90d",
   "metadata": {
    "execution": {
     "iopub.execute_input": "2023-05-03T12:40:21.930354Z",
     "iopub.status.busy": "2023-05-03T12:40:21.929903Z",
     "iopub.status.idle": "2023-05-03T12:40:21.936575Z",
     "shell.execute_reply": "2023-05-03T12:40:21.935592Z"
    },
    "papermill": {
     "duration": 0.037346,
     "end_time": "2023-05-03T12:40:21.938626",
     "exception": false,
     "start_time": "2023-05-03T12:40:21.901280",
     "status": "completed"
    },
    "tags": []
   },
   "outputs": [
    {
     "data": {
      "text/plain": [
       "7"
      ]
     },
     "execution_count": 18,
     "metadata": {},
     "output_type": "execute_result"
    }
   ],
   "source": [
    "# np.argmax finds a maximum element from an array and returns the index of it\n",
    "np.argmax(y_predicted[0])\n"
   ]
  },
  {
   "cell_type": "code",
   "execution_count": 19,
   "id": "56086b08",
   "metadata": {
    "execution": {
     "iopub.execute_input": "2023-05-03T12:40:21.994249Z",
     "iopub.status.busy": "2023-05-03T12:40:21.993848Z",
     "iopub.status.idle": "2023-05-03T12:40:22.025875Z",
     "shell.execute_reply": "2023-05-03T12:40:22.024557Z"
    },
    "papermill": {
     "duration": 0.062443,
     "end_time": "2023-05-03T12:40:22.028324",
     "exception": false,
     "start_time": "2023-05-03T12:40:21.965881",
     "status": "completed"
    },
    "tags": []
   },
   "outputs": [],
   "source": [
    "y_predicted_labels = [np.argmax(i) for i in y_predicted]\n"
   ]
  },
  {
   "cell_type": "code",
   "execution_count": 20,
   "id": "91f82bc8",
   "metadata": {
    "execution": {
     "iopub.execute_input": "2023-05-03T12:40:22.084983Z",
     "iopub.status.busy": "2023-05-03T12:40:22.084602Z",
     "iopub.status.idle": "2023-05-03T12:40:22.090946Z",
     "shell.execute_reply": "2023-05-03T12:40:22.089972Z"
    },
    "papermill": {
     "duration": 0.036539,
     "end_time": "2023-05-03T12:40:22.093010",
     "exception": false,
     "start_time": "2023-05-03T12:40:22.056471",
     "status": "completed"
    },
    "tags": []
   },
   "outputs": [
    {
     "data": {
      "text/plain": [
       "[7, 2, 1, 0, 4]"
      ]
     },
     "execution_count": 20,
     "metadata": {},
     "output_type": "execute_result"
    }
   ],
   "source": [
    "y_predicted_labels[:5]\n"
   ]
  },
  {
   "cell_type": "code",
   "execution_count": 21,
   "id": "c635b58e",
   "metadata": {
    "execution": {
     "iopub.execute_input": "2023-05-03T12:40:22.149577Z",
     "iopub.status.busy": "2023-05-03T12:40:22.148666Z",
     "iopub.status.idle": "2023-05-03T12:40:22.186864Z",
     "shell.execute_reply": "2023-05-03T12:40:22.185793Z"
    },
    "papermill": {
     "duration": 0.069016,
     "end_time": "2023-05-03T12:40:22.189150",
     "exception": false,
     "start_time": "2023-05-03T12:40:22.120134",
     "status": "completed"
    },
    "tags": []
   },
   "outputs": [
    {
     "data": {
      "text/plain": [
       "<tf.Tensor: shape=(10, 10), dtype=int32, numpy=\n",
       "array([[ 964,    0,    1,    2,    0,    5,    5,    2,    1,    0],\n",
       "       [   0, 1109,    3,    2,    1,    1,    4,    2,   13,    0],\n",
       "       [   8,    8,  926,   14,   12,    2,   13,    9,   36,    4],\n",
       "       [   4,    0,   22,  923,    1,   23,    3,    8,   17,    9],\n",
       "       [   1,    1,    2,    1,  940,    0,   10,    2,    7,   18],\n",
       "       [  11,    3,    3,   30,   14,  779,   18,    5,   24,    5],\n",
       "       [  13,    3,    5,    1,    8,   11,  915,    1,    1,    0],\n",
       "       [   2,    5,   24,    8,   12,    1,    0,  941,    3,   32],\n",
       "       [  10,    7,    6,   29,   12,   35,   10,   10,  847,    8],\n",
       "       [  11,    7,    1,   11,   59,    7,    0,   17,    4,  892]],\n",
       "      dtype=int32)>"
      ]
     },
     "execution_count": 21,
     "metadata": {},
     "output_type": "execute_result"
    }
   ],
   "source": [
    "cm = tf.math.confusion_matrix(labels=y_test,predictions=y_predicted_labels)\n",
    "cm"
   ]
  },
  {
   "cell_type": "code",
   "execution_count": 22,
   "id": "4967b99f",
   "metadata": {
    "execution": {
     "iopub.execute_input": "2023-05-03T12:40:22.246475Z",
     "iopub.status.busy": "2023-05-03T12:40:22.246028Z",
     "iopub.status.idle": "2023-05-03T12:40:23.781075Z",
     "shell.execute_reply": "2023-05-03T12:40:23.779806Z"
    },
    "papermill": {
     "duration": 1.566416,
     "end_time": "2023-05-03T12:40:23.783437",
     "exception": false,
     "start_time": "2023-05-03T12:40:22.217021",
     "status": "completed"
    },
    "tags": []
   },
   "outputs": [
    {
     "data": {
      "text/plain": [
       "Text(95.72222222222221, 0.5, 'Truth')"
      ]
     },
     "execution_count": 22,
     "metadata": {},
     "output_type": "execute_result"
    },
    {
     "data": {
      "image/png": "[encoded data removed]",
      "text/plain": [
       "<Figure size 1000x700 with 2 Axes>"
      ]
     },
     "metadata": {},
     "output_type": "display_data"
    }
   ],
   "source": [
    "import seaborn as sn\n",
    "plt.figure(figsize = (10,7))\n",
    "sn.heatmap(cm, annot=True, fmt='d')\n",
    "plt.xlabel('Predicted')\n",
    "plt.ylabel('Truth')"
   ]
  },
  {
   "cell_type": "markdown",
   "id": "cdec55ed",
   "metadata": {
    "papermill": {
     "duration": 0.027874,
     "end_time": "2023-05-03T12:40:23.840404",
     "exception": false,
     "start_time": "2023-05-03T12:40:23.812530",
     "status": "completed"
    },
    "tags": []
   },
   "source": [
    "## Creating new model using hidden layer\n"
   ]
  },
  {
   "cell_type": "code",
   "execution_count": 23,
   "id": "86561404",
   "metadata": {
    "execution": {
     "iopub.execute_input": "2023-05-03T12:40:23.899004Z",
     "iopub.status.busy": "2023-05-03T12:40:23.898065Z",
     "iopub.status.idle": "2023-05-03T12:40:45.171642Z",
     "shell.execute_reply": "2023-05-03T12:40:45.170492Z"
    },
    "papermill": {
     "duration": 21.304934,
     "end_time": "2023-05-03T12:40:45.173814",
     "exception": false,
     "start_time": "2023-05-03T12:40:23.868880",
     "status": "completed"
    },
    "tags": []
   },
   "outputs": [
    {
     "name": "stdout",
     "output_type": "stream",
     "text": [
      "Epoch 1/5\n",
      "1875/1875 [==============================] - 4s 2ms/step - loss: 0.2642 - accuracy: 0.9255\n",
      "Epoch 2/5\n",
      "1875/1875 [==============================] - 4s 2ms/step - loss: 0.1183 - accuracy: 0.9657\n",
      "Epoch 3/5\n",
      "1875/1875 [==============================] - 4s 2ms/step - loss: 0.0829 - accuracy: 0.9757\n",
      "Epoch 4/5\n",
      "1875/1875 [==============================] - 4s 2ms/step - loss: 0.0631 - accuracy: 0.9810\n",
      "Epoch 5/5\n",
      "1875/1875 [==============================] - 4s 2ms/step - loss: 0.0506 - accuracy: 0.9847\n"
     ]
    },
    {
     "data": {
      "text/plain": [
       "<keras.callbacks.History at 0x725913a77f10>"
      ]
     },
     "execution_count": 23,
     "metadata": {},
     "output_type": "execute_result"
    }
   ],
   "source": [
    "model = keras.Sequential([\n",
    "    keras.layers.Dense(100, input_shape=(784,), activation='relu'),\n",
    "    keras.layers.Dense(10, activation='sigmoid')\n",
    "])\n",
    "\n",
    "model.compile(optimizer='adam',\n",
    "              loss='sparse_categorical_crossentropy',\n",
    "              metrics=['accuracy'])\n",
    "\n",
    "model.fit(X_train_flattened, y_train, epochs=5)"
   ]
  },
  {
   "cell_type": "code",
   "execution_count": 24,
   "id": "f40bb1fc",
   "metadata": {
    "execution": {
     "iopub.execute_input": "2023-05-03T12:40:45.280260Z",
     "iopub.status.busy": "2023-05-03T12:40:45.279836Z",
     "iopub.status.idle": "2023-05-03T12:40:46.103854Z",
     "shell.execute_reply": "2023-05-03T12:40:46.102822Z"
    },
    "papermill": {
     "duration": 0.880157,
     "end_time": "2023-05-03T12:40:46.106007",
     "exception": false,
     "start_time": "2023-05-03T12:40:45.225850",
     "status": "completed"
    },
    "tags": []
   },
   "outputs": [
    {
     "name": "stdout",
     "output_type": "stream",
     "text": [
      "313/313 [==============================] - 1s 1ms/step - loss: 0.0848 - accuracy: 0.9748\n"
     ]
    },
    {
     "data": {
      "text/plain": [
       "[0.08483338356018066, 0.9747999906539917]"
      ]
     },
     "execution_count": 24,
     "metadata": {},
     "output_type": "execute_result"
    }
   ],
   "source": [
    "model.evaluate(X_test_flattened,y_test) # In this model, accuracy is more better than the previous model\n"
   ]
  },
  {
   "cell_type": "code",
   "execution_count": 25,
   "id": "818cf944",
   "metadata": {
    "execution": {
     "iopub.execute_input": "2023-05-03T12:40:46.213581Z",
     "iopub.status.busy": "2023-05-03T12:40:46.212612Z",
     "iopub.status.idle": "2023-05-03T12:40:47.008433Z",
     "shell.execute_reply": "2023-05-03T12:40:47.007384Z"
    },
    "papermill": {
     "duration": 0.85218,
     "end_time": "2023-05-03T12:40:47.010972",
     "exception": false,
     "start_time": "2023-05-03T12:40:46.158792",
     "status": "completed"
    },
    "tags": []
   },
   "outputs": [
    {
     "name": "stdout",
     "output_type": "stream",
     "text": [
      "313/313 [==============================] - 0s 1ms/step\n"
     ]
    }
   ],
   "source": [
    "y_predicted = model.predict(X_test_flattened)\n",
    "y_predicted_labels = [np.argmax(i) for i in y_predicted]\n",
    "cm = tf.math.confusion_matrix(labels=y_test,predictions=y_predicted_labels)"
   ]
  },
  {
   "cell_type": "code",
   "execution_count": 26,
   "id": "dd654f12",
   "metadata": {
    "execution": {
     "iopub.execute_input": "2023-05-03T12:40:47.131957Z",
     "iopub.status.busy": "2023-05-03T12:40:47.131505Z",
     "iopub.status.idle": "2023-05-03T12:40:47.708711Z",
     "shell.execute_reply": "2023-05-03T12:40:47.707695Z"
    },
    "papermill": {
     "duration": 0.645883,
     "end_time": "2023-05-03T12:40:47.711102",
     "exception": false,
     "start_time": "2023-05-03T12:40:47.065219",
     "status": "completed"
    },
    "tags": []
   },
   "outputs": [
    {
     "data": {
      "text/plain": [
       "Text(95.72222222222221, 0.5, 'Truth')"
      ]
     },
     "execution_count": 26,
     "metadata": {},
     "output_type": "execute_result"
    },
    {
     "data": {
      "image/png": "[encoded data removed]",
      "text/plain": [
       "<Figure size 1000x700 with 2 Axes>"
      ]
     },
     "metadata": {},
     "output_type": "display_data"
    }
   ],
   "source": [
    "plt.figure(figsize = (10,7))\n",
    "sn.heatmap(cm, annot=True, fmt='d')\n",
    "plt.xlabel('Predicted')\n",
    "plt.ylabel('Truth')"
   ]
  },
  {
   "cell_type": "markdown",
   "id": "3cf7d746",
   "metadata": {
    "papermill": {
     "duration": 0.05388,
     "end_time": "2023-05-03T12:40:47.819005",
     "exception": false,
     "start_time": "2023-05-03T12:40:47.765125",
     "status": "completed"
    },
    "tags": []
   },
   "source": [
    "## Using Flatten layer so that we don't have to call reshape on input dataset\n"
   ]
  },
  {
   "cell_type": "code",
   "execution_count": 27,
   "id": "bf8f5b71",
   "metadata": {
    "execution": {
     "iopub.execute_input": "2023-05-03T12:40:47.929064Z",
     "iopub.status.busy": "2023-05-03T12:40:47.928662Z",
     "iopub.status.idle": "2023-05-03T12:41:30.364611Z",
     "shell.execute_reply": "2023-05-03T12:41:30.363805Z"
    },
    "papermill": {
     "duration": 42.49338,
     "end_time": "2023-05-03T12:41:30.366701",
     "exception": false,
     "start_time": "2023-05-03T12:40:47.873321",
     "status": "completed"
    },
    "tags": []
   },
   "outputs": [
    {
     "name": "stdout",
     "output_type": "stream",
     "text": [
      "Epoch 1/10\n",
      "1875/1875 [==============================] - 5s 2ms/step - loss: 0.2757 - accuracy: 0.9216\n",
      "Epoch 2/10\n",
      "1875/1875 [==============================] - 4s 2ms/step - loss: 0.1252 - accuracy: 0.9633\n",
      "Epoch 3/10\n",
      "1875/1875 [==============================] - 4s 2ms/step - loss: 0.0864 - accuracy: 0.9743\n",
      "Epoch 4/10\n",
      "1875/1875 [==============================] - 4s 2ms/step - loss: 0.0661 - accuracy: 0.9796\n",
      "Epoch 5/10\n",
      "1875/1875 [==============================] - 4s 2ms/step - loss: 0.0513 - accuracy: 0.9843\n",
      "Epoch 6/10\n",
      "1875/1875 [==============================] - 4s 2ms/step - loss: 0.0426 - accuracy: 0.9869\n",
      "Epoch 7/10\n",
      "1875/1875 [==============================] - 4s 2ms/step - loss: 0.0335 - accuracy: 0.9898\n",
      "Epoch 8/10\n",
      "1875/1875 [==============================] - 4s 2ms/step - loss: 0.0272 - accuracy: 0.9916\n",
      "Epoch 9/10\n",
      "1875/1875 [==============================] - 4s 2ms/step - loss: 0.0236 - accuracy: 0.9928\n",
      "Epoch 10/10\n",
      "1875/1875 [==============================] - 4s 2ms/step - loss: 0.0182 - accuracy: 0.9948\n"
     ]
    },
    {
     "data": {
      "text/plain": [
       "<keras.callbacks.History at 0x7259116df460>"
      ]
     },
     "execution_count": 27,
     "metadata": {},
     "output_type": "execute_result"
    }
   ],
   "source": [
    "model = keras.Sequential([\n",
    "    keras.layers.Flatten(input_shape=(28, 28)),\n",
    "    keras.layers.Dense(100, activation='relu'),\n",
    "    keras.layers.Dense(10, activation='sigmoid')\n",
    "])\n",
    "\n",
    "model.compile(optimizer='adam',\n",
    "              loss='sparse_categorical_crossentropy',\n",
    "              metrics=['accuracy'])\n",
    "\n",
    "model.fit(X_train, y_train, epochs=10)"
   ]
  },
  {
   "cell_type": "code",
   "execution_count": 28,
   "id": "5a6eb091",
   "metadata": {
    "execution": {
     "iopub.execute_input": "2023-05-03T12:41:30.579339Z",
     "iopub.status.busy": "2023-05-03T12:41:30.578451Z",
     "iopub.status.idle": "2023-05-03T12:41:31.413793Z",
     "shell.execute_reply": "2023-05-03T12:41:31.412610Z"
    },
    "papermill": {
     "duration": 0.944372,
     "end_time": "2023-05-03T12:41:31.416367",
     "exception": false,
     "start_time": "2023-05-03T12:41:30.471995",
     "status": "completed"
    },
    "tags": []
   },
   "outputs": [
    {
     "name": "stdout",
     "output_type": "stream",
     "text": [
      "313/313 [==============================] - 1s 2ms/step - loss: 0.0850 - accuracy: 0.9779\n"
     ]
    },
    {
     "data": {
      "text/plain": [
       "[0.084958016872406, 0.9779000282287598]"
      ]
     },
     "execution_count": 28,
     "metadata": {},
     "output_type": "execute_result"
    }
   ],
   "source": [
    "model.evaluate(X_test,y_test)\n"
   ]
  },
  {
   "cell_type": "markdown",
   "id": "2b5d2727",
   "metadata": {
    "papermill": {
     "duration": 0.10695,
     "end_time": "2023-05-03T12:41:31.632462",
     "exception": false,
     "start_time": "2023-05-03T12:41:31.525512",
     "status": "completed"
    },
    "tags": []
   },
   "source": [
    "## As a consequence, the model with a hidden layer leads to enhance accuracy. Although we can even improve it by using Flatten."
   ]
  },
  {
   "cell_type": "markdown",
   "id": "318aa6fb",
   "metadata": {
    "papermill": {
     "duration": 0.106247,
     "end_time": "2023-05-03T12:41:31.845823",
     "exception": false,
     "start_time": "2023-05-03T12:41:31.739576",
     "status": "completed"
    },
    "tags": []
   },
   "source": [
    " # <p style=\"background:green ;color:white;font-family:newtimeroman;font-size:100%;text-align:center;border-radius:400px 300px;\"> End\n",
    " </p>"
   ]
  },
  {
   "cell_type": "code",
   "execution_count": null,
   "id": "c287d2f2",
   "metadata": {
    "papermill": {
     "duration": 0.106575,
     "end_time": "2023-05-03T12:41:32.059002",
     "exception": false,
     "start_time": "2023-05-03T12:41:31.952427",
     "status": "completed"
    },
    "tags": []
   },
   "outputs": [],
   "source": []
  }
 ],
 "metadata": {
  "kernelspec": {
   "display_name": "Python 3",
   "language": "python",
   "name": "python3"
  },
  "language_info": {
   "codemirror_mode": {
    "name": "ipython",
    "version": 3
   },
   "file_extension": ".py",
   "mimetype": "text/x-python",
   "name": "python",
   "nbconvert_exporter": "python",
   "pygments_lexer": "ipython3",
   "version": "3.10.10"
  },
  "papermill": {
   "default_parameters": {},
   "duration": 114.499879,
   "end_time": "2023-05-03T12:41:35.057859",
   "environment_variables": {},
   "exception": null,
   "input_path": "__notebook__.ipynb",
   "output_path": "__notebook__.ipynb",
   "parameters": {},
   "start_time": "2023-05-03T12:39:40.557980",
   "version": "2.4.0"
  }
 },
 "nbformat": 4,
 "nbformat_minor": 5
}
